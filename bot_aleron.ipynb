{
 "cells": [
  {
   "cell_type": "code",
   "execution_count": 1,
   "id": "ab944fa2-920b-4f17-9082-2370311753bc",
   "metadata": {},
   "outputs": [],
   "source": [
    "# Run chromedriver file first before executing script \n",
    "from selenium import webdriver\n",
    "import time\n",
    "from selenium.webdriver.common.keys import Keys\n",
    "from selenium.webdriver.chrome.options import Options\n",
    "from selenium.webdriver.support.ui import WebDriverWait"
   ]
  },
  {
   "cell_type": "code",
   "execution_count": 2,
   "id": "570ab0ae-74bb-49cd-9831-72daba0f4e84",
   "metadata": {},
   "outputs": [
    {
     "name": "stderr",
     "output_type": "stream",
     "text": [
      "<ipython-input-2-ff8123fd95ba>:2: DeprecationWarning: executable_path has been deprecated, please pass in a Service object\n",
      "  driver=webdriver.Chrome(path)\n"
     ]
    }
   ],
   "source": [
    "path=r\"F:\\chromedriver.exe\"\n",
    "driver=webdriver.Chrome(path)\n",
    "driver.implicitly_wait(10)\n",
    "driver.get('https://www.instagram.com/')"
   ]
  },
  {
   "cell_type": "code",
   "execution_count": 3,
   "id": "a59e2f04-7a01-4b29-9647-663a6bbaa97c",
   "metadata": {},
   "outputs": [
    {
     "name": "stderr",
     "output_type": "stream",
     "text": [
      "<ipython-input-3-d0cd7f115161>:1: DeprecationWarning: find_element_by_* commands are deprecated. Please use find_element() instead\n",
      "  uid=driver.find_element_by_xpath('//*[@id=\"loginForm\"]/div/div[1]/div/label/input')\n",
      "<ipython-input-3-d0cd7f115161>:2: DeprecationWarning: find_element_by_* commands are deprecated. Please use find_element() instead\n",
      "  password=driver.find_element_by_xpath('//*[@id=\"loginForm\"]/div/div[2]/div/label/input')\n",
      "<ipython-input-3-d0cd7f115161>:7: DeprecationWarning: find_element_by_* commands are deprecated. Please use find_element() instead\n",
      "  not_now=driver.find_element_by_xpath('//*[@id=\"react-root\"]/section/main/div/div/div/div/button')\n"
     ]
    },
    {
     "ename": "AttributeError",
     "evalue": "'NoneType' object has no attribute 'click'",
     "output_type": "error",
     "traceback": [
      "\u001b[1;31m---------------------------------------------------------------------------\u001b[0m",
      "\u001b[1;31mAttributeError\u001b[0m                            Traceback (most recent call last)",
      "\u001b[1;32m<ipython-input-3-d0cd7f115161>\u001b[0m in \u001b[0;36m<module>\u001b[1;34m\u001b[0m\n\u001b[0;32m      6\u001b[0m \u001b[1;33m\u001b[0m\u001b[0m\n\u001b[0;32m      7\u001b[0m \u001b[0mnot_now\u001b[0m\u001b[1;33m=\u001b[0m\u001b[0mdriver\u001b[0m\u001b[1;33m.\u001b[0m\u001b[0mfind_element_by_xpath\u001b[0m\u001b[1;33m(\u001b[0m\u001b[1;34m'//*[@id=\"react-root\"]/section/main/div/div/div/div/button'\u001b[0m\u001b[1;33m)\u001b[0m\u001b[1;33m\u001b[0m\u001b[1;33m\u001b[0m\u001b[0m\n\u001b[1;32m----> 8\u001b[1;33m \u001b[0mnot_now\u001b[0m\u001b[1;33m.\u001b[0m\u001b[0mclick\u001b[0m\u001b[1;33m(\u001b[0m\u001b[1;33m)\u001b[0m\u001b[1;33m\u001b[0m\u001b[1;33m\u001b[0m\u001b[0m\n\u001b[0m\u001b[0;32m      9\u001b[0m \u001b[0mnot_now\u001b[0m\u001b[1;33m=\u001b[0m\u001b[0mdriver\u001b[0m\u001b[1;33m.\u001b[0m\u001b[0mfind_element_by_xpath\u001b[0m\u001b[1;33m(\u001b[0m\u001b[1;34m'/html/body/div[5]/div/div/div/div[3]/button[2]'\u001b[0m\u001b[1;33m)\u001b[0m\u001b[1;33m\u001b[0m\u001b[1;33m\u001b[0m\u001b[0m\n\u001b[0;32m     10\u001b[0m \u001b[0mnot_now\u001b[0m\u001b[1;33m.\u001b[0m\u001b[0mclick\u001b[0m\u001b[1;33m(\u001b[0m\u001b[1;33m)\u001b[0m\u001b[1;33m\u001b[0m\u001b[1;33m\u001b[0m\u001b[0m\n",
      "\u001b[1;31mAttributeError\u001b[0m: 'NoneType' object has no attribute 'click'"
     ]
    }
   ],
   "source": [
    "uid=driver.find_element_by_xpath('//*[@id=\"loginForm\"]/div/div[1]/div/label/input')\n",
    "password=driver.find_element_by_xpath('//*[@id=\"loginForm\"]/div/div[2]/div/label/input')\n",
    "uid.send_keys('bot_170320')\n",
    "password.send_keys('aayush17')\n",
    "password.send_keys(Keys.RETURN)\n",
    "\n",
    "not_now=driver.find_element_by_xpath('//*[@id=\"react-root\"]/section/main/div/div/div/div/button')\n",
    "not_now.click()\n",
    "not_now=driver.find_element_by_xpath('/html/body/div[5]/div/div/div/div[3]/button[2]')\n",
    "not_now.click()"
   ]
  },
  {
   "cell_type": "markdown",
   "id": "a8332d1a-6e8a-4f7a-b569-b5c4c8888015",
   "metadata": {},
   "source": [
    "## See all suggestions and like all posts"
   ]
  },
  {
   "cell_type": "code",
   "execution_count": null,
   "id": "f9b7967c-3770-4816-957c-1adc543b887e",
   "metadata": {},
   "outputs": [],
   "source": [
    "count=0\n",
    "for i in range(1,10):\n",
    "    i,j=str(i),i\n",
    "    \n",
    "    try:\n",
    "        check=driver.find_element_by_xpath('/html/body/div[1]/section/main/section/div/div[2]/div/article['+i+']/div/div[3]/div/div/section[1]/span[1]/button/div[2]')\n",
    "        like=driver.find_element_by_xpath('/html/body/div[1]/section/main/section/div/div[2]/div/article['+i+']/div/div[3]/div/div/section[1]/span[1]/button')\n",
    "        like.click()\n",
    "        count+=1\n",
    "    except:    \n",
    "        a,b=str(2000*(j-1)),str(2000*j)\n",
    "        print(a,b)\n",
    "        driver.execute_script('window.scrollTo('+a+','+b+')')\n",
    "        continue        \n",
    "print(count,\"Post liked today\")"
   ]
  },
  {
   "cell_type": "markdown",
   "id": "45663245-7c4f-4993-b1ee-028c5ec812fd",
   "metadata": {},
   "source": [
    "## See all follower suggestion and send follow requests"
   ]
  },
  {
   "cell_type": "code",
   "execution_count": null,
   "id": "ce5444ac-d0a7-4f98-967a-6d77a729238f",
   "metadata": {},
   "outputs": [],
   "source": [
    "see_all=driver.find_element_by_xpath('//*[@id=\"react-root\"]/section/main/section/div[3]/div[2]/div[1]/a/div')\n",
    "see_all.click()\n",
    "\n",
    "for i in range(1,10):\n",
    "    i=str(i)\n",
    "    follow=driver.find_element_by_xpath('/html/body/div[1]/section/main/div/div[2]/div/div/div['+i+']/div[3]')\n",
    "    follow.click()"
   ]
  }
 ],
 "metadata": {
  "kernelspec": {
   "display_name": "Python 3",
   "language": "python",
   "name": "python3"
  },
  "language_info": {
   "codemirror_mode": {
    "name": "ipython",
    "version": 3
   },
   "file_extension": ".py",
   "mimetype": "text/x-python",
   "name": "python",
   "nbconvert_exporter": "python",
   "pygments_lexer": "ipython3",
   "version": "3.8.8"
  }
 },
 "nbformat": 4,
 "nbformat_minor": 5
}
